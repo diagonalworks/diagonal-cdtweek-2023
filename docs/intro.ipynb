{
 "cells": [
  {
   "cell_type": "code",
   "execution_count": null,
   "id": "96730d24",
   "metadata": {},
   "outputs": [],
   "source": [
    "import diagonal_b6 as b6\n",
    "\n",
    "# !conda install pandas -y\n",
    "# !conda install matplotlib -y\n",
    "\n",
    "import pandas as pd"
   ]
  },
  {
   "cell_type": "code",
   "execution_count": null,
   "id": "23a94203",
   "metadata": {},
   "outputs": [],
   "source": [
    "# connect to the world, in this instance Nottingham\n",
    "grpc_address = \"localhost:8002\"\n",
    "w = b6.connect_insecure(grpc_address)"
   ]
  },
  {
   "cell_type": "code",
   "execution_count": null,
   "id": "96beb323",
   "metadata": {},
   "outputs": [],
   "source": [
    "LINCOLN_CIRCUS_WAY_ID = 118144013\n",
    "LINCOLN_CIRCUS_BENCH_NODE_ID = 2512226339"
   ]
  },
  {
   "cell_type": "markdown",
   "id": "4a77f6b8",
   "metadata": {},
   "source": [
    "## the world?\n",
    "One of the huge benefits of bedrock is that it allows you to build up a query or analysis without evaluating it. \n",
    "You evaluate your query, for example, via applying `w` to it. \n",
    "You will see this across the examples as `w(query)`"
   ]
  },
  {
   "cell_type": "markdown",
   "id": "264cc1c2",
   "metadata": {},
   "source": [
    "# Searching\n",
    "\n",
    "b6 lets you search the world of osm in whatever data you have loaded. \n",
    "You do this via OSM tags (https://wiki.openstreetmap.org/wiki/Tags). Not all tags are \"searchable\", the ones that are have a `#` up front. Here are ones we have made searchable by default:\n",
    "\n",
    "\t\"amenity\":   \"#amenity\"\n",
    "\t\"barrier\":   \"#barrier\"\n",
    "\t\"boundary\":  \"#boundary\"\n",
    "\t\"bridge\":    \"#bridge\"\n",
    "\t\"building\":  \"#building\"\n",
    "\t\"highway\":   \"#highway\"\n",
    "\t\"landuse\":   \"#landuse\"\n",
    "\t\"leisure\":   \"#leisure\"\n",
    "\t\"natural\":   \"#natural\"\n",
    "\t\"network\":   \"#network\"\n",
    "\t\"place\":     \"#place\"\n",
    "\t\"railway\":   \"#railway\"\n",
    "\t\"route\":     \"#route\"\n",
    "\t\"shop\":      \"#shop\"\n",
    "\t\"water\":     \"#water\"\n",
    "\t\"waterway\":  \"#waterway\"\n",
    "\t\"fhrs:id\":   \"@fhrs:id\"\n",
    "\t\"wikidata\":  \"@wikidata\"\n",
    "\t\"wikipedia\": \"@wikipedia\""
   ]
  },
  {
   "cell_type": "code",
   "execution_count": null,
   "id": "277ecb84",
   "metadata": {},
   "outputs": [],
   "source": [
    "# find all the parks - https://wiki.openstreetmap.org/wiki/Tag:leisure%3Dpark\n",
    "parks = b6.find( b6.tagged(\"#leisure\",\"park\") )\n",
    "\n",
    "# access the metadata via `all_tags()`\n",
    "for osmid,park in w(parks):\n",
    "    print( f\"{osmid}\\n{park.all_tags()}\" )"
   ]
  },
  {
   "cell_type": "code",
   "execution_count": null,
   "id": "a5d8c950",
   "metadata": {},
   "outputs": [],
   "source": [
    "# or if you knew the OSM ID of a park you could find it that way\n",
    "lincoln_circus = b6.find_area( b6.osm_way_area_id(LINCOLN_CIRCUS_WAY_ID) )\n",
    "\n",
    "print( w(lincoln_circus).all_tags() )"
   ]
  },
  {
   "cell_type": "code",
   "execution_count": null,
   "id": "2043338c",
   "metadata": {},
   "outputs": [],
   "source": [
    "# you can also search for a bench in the park\n",
    "bench = b6.find_point( b6.osm_node_id(LINCOLN_CIRCUS_BENCH_NODE_ID ))\n",
    "\n",
    "print( w(bench).all_tags() )"
   ]
  },
  {
   "cell_type": "code",
   "execution_count": null,
   "id": "49c35439",
   "metadata": {
    "scrolled": false
   },
   "outputs": [],
   "source": [
    "# or if you didn't know what other features were in the park, \n",
    "# you could limit your search to what is in the park area\n",
    "contained_in_lincoln_circus = b6.find( b6.intersecting( b6.find_feature(lincoln_circus) ) )\n",
    "\n",
    "for osmid, feature in w(contained_in_lincoln_circus):\n",
    "    print( f\"{osmid}\\n{feature.all_tags()}\" )"
   ]
  },
  {
   "cell_type": "markdown",
   "id": "32959116",
   "metadata": {},
   "source": [
    "Note that searching for what is in the park yields different types of features. \n",
    "\n",
    "- It yields `nodes`, which in this instance are benches. \n",
    "- It yields `ways`, which `bedrock` splits into `paths` and `areas`\n",
    "    - `areas` are ways which represent areas, and the rest are `paths`       \n",
    "- It also yields `access-path` which is also a `path` - these are paths we have automatically generated to ensure all features are connected to the network. This is helpful, for example if you want to compute routes."
   ]
  },
  {
   "cell_type": "code",
   "execution_count": null,
   "id": "ffec4f31",
   "metadata": {},
   "outputs": [],
   "source": [
    "# you could be more precise and only search for `points` within the park\n",
    "points_in_lincoln_circus = b6.find_points( b6.intersecting( b6.find_feature(lincoln_circus) ) )\n",
    "\n",
    "for osmid, point in w(points_in_lincoln_circus):\n",
    "    print( f\"{osmid}\\n{point.all_tags()}\" )"
   ]
  },
  {
   "cell_type": "code",
   "execution_count": null,
   "id": "ec686b6a",
   "metadata": {},
   "outputs": [],
   "source": [
    "# you could be more precise and only search for `areas` within the park\n",
    "areas_in_lincoln_circus = b6.find_areas( b6.intersecting( b6.find_feature(lincoln_circus) ) )\n",
    "\n",
    "for osmid, area in w(areas_in_lincoln_circus):\n",
    "    print( f\"{osmid}\\n{area.all_tags()}\" )"
   ]
  },
  {
   "cell_type": "code",
   "execution_count": null,
   "id": "4281616c",
   "metadata": {},
   "outputs": [],
   "source": [
    "# you could be more precise and only search for `paths` within the park\n",
    "paths_in_lincoln_circus = b6.find_paths( b6.intersecting( b6.find_feature(lincoln_circus) ) )\n",
    "\n",
    "for osmid, path in w(paths_in_lincoln_circus):radius_m\n",
    "    print( f\"{osmid}\\n{path.all_tags()}\" )"
   ]
  },
  {
   "cell_type": "markdown",
   "id": "c1a011d9",
   "metadata": {},
   "source": [
    "###  Filter\n",
    "\n",
    "You can use `.filter` to narrow down your search to something more specific.\n",
    "You can also then apply `.map` to grab the value of a tag.\n",
    "When grabbing the value of a tag you have four options:\n",
    "- `get` which gets you whatever the value is\n",
    "- `get_string`\n",
    "- `get_int`\n",
    "- `get)"
   ]
  },
  {
   "cell_type": "code",
   "execution_count": null,
   "id": "e07114e1",
   "metadata": {},
   "outputs": [],
   "source": [
    "# you can search for features and filter to only get features that contain a certain tag\n",
    "contained_in_lincoln_circus = b6.find( b6.intersecting( b6.find_feature(lincoln_circus) ) )\n",
    "amenities_in_lincoln_circus = contained_in_lincoln_circus.filter(lambda a: b6.has_key(a, \"#amenity\"))\n",
    "\n",
    "for osmid, amenity in w(amenities_in_lincoln_circus):\n",
    "    print( f\"{osmid}\\n{amenity.all_tags()}\" )"
   ]
  },
  {
   "cell_type": "code",
   "execution_count": null,
   "id": "08431c50",
   "metadata": {},
   "outputs": [],
   "source": [
    "# more generally you can do a wide search, using the searchable tags,\n",
    "# then do a filter for features that have other non-searchable tags, present. \n",
    "offices_with_levels = b6.find_areas( b6.tagged(\"#building\",\"office\") ) \\\n",
    "                          .filter(lambda b: b6.has_key(b, \"building:levels\"))\n",
    "\n",
    "for osmid, office in w(offices_with_levels):\n",
    "    print( f\"{osmid}\\n{office.all_tags()}\" )"
   ]
  },
  {
   "cell_type": "code",
   "execution_count": null,
   "id": "9542ee53",
   "metadata": {},
   "outputs": [],
   "source": [
    "# even more fun, you can extract the value of that tag\n",
    "levels_in_offices = offices_with_levels.map(lambda b: b6.get_int(b, \"building:levels\"))\n",
    "\n",
    "for osmid, levels in w(levels_in_offices):\n",
    "    print( f\"{osmid} -->{levels} levels\" )"
   ]
  },
  {
   "cell_type": "code",
   "execution_count": null,
   "id": "849da3b7",
   "metadata": {},
   "outputs": [],
   "source": [
    "# you can use that to then analyse/categorise/filter by value as you need, using python\n",
    "df = pd.DataFrame(w(levels_in_offices),\n",
    "                  columns =[\"office\",\"number_of_levels\"]\n",
    "                 ).set_index(\"office\")\n",
    "\n",
    "df.plot.hist()"
   ]
  },
  {
   "cell_type": "markdown",
   "id": "76645be3",
   "metadata": {},
   "source": [
    "# Compute"
   ]
  },
  {
   "cell_type": "code",
   "execution_count": null,
   "id": "5711e35f",
   "metadata": {},
   "outputs": [],
   "source": [
    "lincoln_circus = b6.find_area( b6.osm_way_area_id(LINCOLN_CIRCUS_WAY_ID) )"
   ]
  },
  {
   "cell_type": "code",
   "execution_count": null,
   "id": "8ce0ce6d",
   "metadata": {},
   "outputs": [],
   "source": [
    "# you can find the closest pub to the park, within 1000 metres\n",
    "pub = lincoln_circus.closest(\"walk\", 1000.0, b6.tagged(\"#amenity\", \"pub\"))\n",
    "print( w(pub).all_tags() )"
   ]
  },
  {
   "cell_type": "code",
   "execution_count": null,
   "id": "96f6d209",
   "metadata": {},
   "outputs": [],
   "source": [
    "# you can find the distance to the closest pub within 1000 metres\n",
    "distance = lincoln_circus.closest_distance(\"walk\", 1000.0, b6.tagged(\"#amenity\", \"pub\"))\n",
    "print( f\"{w(distance)} metres\" )"
   ]
  },
  {
   "cell_type": "code",
   "execution_count": null,
   "id": "691cee45",
   "metadata": {},
   "outputs": [],
   "source": [
    "# or you can find all the pubs within 1000 metres\n",
    "pubs = lincoln_circus.reachable(\"walk\", 1000.0, b6.tagged(\"#amenity\",\"pub\"))\n",
    "for osmid, pub in w(pubs):\n",
    "    print( f\"{osmid}\\n{pub.all_tags()}\" )"
   ]
  },
  {
   "cell_type": "code",
   "execution_count": null,
   "id": "1c9621bc",
   "metadata": {},
   "outputs": [],
   "source": [
    "# if you wanted to map these elsewhere, you could export as geojson\n",
    "print( w( b6.to_geojson_collection(pubs) ) )"
   ]
  },
  {
   "cell_type": "code",
   "execution_count": null,
   "id": "7b7b9e07",
   "metadata": {},
   "outputs": [],
   "source": [
    "# if you just want to know how many pubs are within a certain distance, you can just ask for that\n",
    "number_of_pubs = lincoln_circus.reachable(\"walk\", 1000.0, b6.tagged(\"#amenity\",\"pub\")).count()\n",
    "print( f\"{w(number_of_pubs)} pubs within a 1000 metre walk\" )"
   ]
  },
  {
   "cell_type": "code",
   "execution_count": null,
   "id": "90578445",
   "metadata": {},
   "outputs": [],
   "source": [
    "# if you wanted to know the paths to reach the different pubs you can compute that too\n",
    "# this will find each `path` in the data that was used to arrive at any of the reachable pubs,\n",
    "# and give you a count of how many times that path was used.\n",
    "paths = lincoln_circus.paths_to_reach(\"walk\", 1000.0, b6.tagged(\"#amenity\",\"pub\"))\n",
    "\n",
    "for osmid, use_count in w(paths):\n",
    "    print( f\"{osmid} -> used {use_count} times\" )"
   ]
  },
  {
   "cell_type": "markdown",
   "id": "8f0d0e9f",
   "metadata": {},
   "source": [
    "## Change the world and compute\n",
    "\n",
    "The `b6.with_change` function lets you run an analysis having changed attributes in the built environment. "
   ]
  },
  {
   "cell_type": "markdown",
   "id": "68a8a4a2",
   "metadata": {},
   "source": [
    "### Adding tags and evaluating the change"
   ]
  },
  {
   "cell_type": "code",
   "execution_count": null,
   "id": "483d3ee0",
   "metadata": {},
   "outputs": [],
   "source": [
    "# Compute how many parks\n",
    "# leisure:park = https://wiki.openstreetmap.org/wiki/Tag:leisure%3Dpark\n",
    "# are within 1km of a school, for all schools\n",
    "\n",
    "schools = b6.find_areas( b6.tagged(\"#amenity\",\"school\") )\n",
    "reachable_parks_from_schools = schools.map( lambda school: school.reachable(\"walk\",\n",
    "                                                                            1000.0,\n",
    "                                                                            b6.tagged(\"#leisure\",\"park\")) \\\n",
    "                                                                   .count() \n",
    "                                          )"
   ]
  },
  {
   "cell_type": "code",
   "execution_count": null,
   "id": "72f9f25f",
   "metadata": {},
   "outputs": [],
   "source": [
    "df = pd.DataFrame(w(reachable_parks_from_schools),\n",
    "                  columns =[\"school\",\"number_of_parks\"]\n",
    "                 ).set_index(\"school\")\n",
    "df.plot.hist(bins=max(df[\"number_of_parks\"])+1)"
   ]
  },
  {
   "cell_type": "code",
   "execution_count": null,
   "id": "7c386d3d",
   "metadata": {},
   "outputs": [],
   "source": [
    "# now, imagine you want to know what happens if all parking lots, \n",
    "# amenity:parking - https://wiki.openstreetmap.org/wiki/Tag:amenity%3Dparking denoted as areas,\n",
    "# are turned into parks\n",
    "\n",
    "parkinglots = b6.find_areas(b6.tagged(\"#amenity\",\"parking\"))\n",
    "parkinglots_to_parks = b6.add_tags( parkinglots.map( lambda parkinglot: b6.tag(\"#leisure\",\"park\") )\n",
    "                                    )\n",
    "\n",
    "change = pd.DataFrame(w(b6.with_change(parkinglots_to_parks, lambda: reachable_parks_from_schools)),\n",
    "                      columns =[\"school\",\"number_of_parks\"]\n",
    "                     ).set_index(\"school\")\n"
   ]
  },
  {
   "cell_type": "code",
   "execution_count": null,
   "id": "8901da9c",
   "metadata": {},
   "outputs": [],
   "source": [
    "data = df.merge(change, right_index=True, left_index=True, suffixes=[\"_before\",\"_after\"])\n",
    "data.plot.hist(alpha=0.5, bins=max(data[\"number_of_parks_after\"])+1)"
   ]
  }
 ],
 "metadata": {
  "kernelspec": {
   "display_name": "Python 3 (ipykernel)",
   "language": "python",
   "name": "python3"
  },
  "language_info": {
   "codemirror_mode": {
    "name": "ipython",
    "version": 3
   },
   "file_extension": ".py",
   "mimetype": "text/x-python",
   "name": "python",
   "nbconvert_exporter": "python",
   "pygments_lexer": "ipython3",
   "version": "3.11.2"
  }
 },
 "nbformat": 4,
 "nbformat_minor": 5
}
